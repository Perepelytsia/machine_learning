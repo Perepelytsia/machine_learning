{
 "cells": [
  {
   "cell_type": "code",
   "execution_count": 23,
   "metadata": {},
   "outputs": [],
   "source": [
    "from sklearn import tree\n",
    "import pandas as pd\n",
    "from sklearn.tree import export_text\n",
    "import matplotlib.pyplot as plt\n",
    "\n",
    "plt.style.use('ggplot')\n",
    "data = pd.read_json('./data.json')"
   ]
  },
  {
   "cell_type": "code",
   "execution_count": 2,
   "metadata": {},
   "outputs": [],
   "source": [
    "X = data.x.values.reshape(-1,1)\n",
    "y = data.y.values"
   ]
  },
  {
   "cell_type": "code",
   "execution_count": 30,
   "metadata": {},
   "outputs": [],
   "source": [
    "clf = tree.DecisionTreeRegressor(random_state=1, max_depth=5)\n",
    "clf = clf.fit(X, y)\n",
    "y_pred = clf.predict(X)"
   ]
  },
  {
   "cell_type": "code",
   "execution_count": 31,
   "metadata": {},
   "outputs": [
    {
     "data": {
      "image/png": "[encoded data removed]",
      "text/plain": [
       "<Figure size 504x360 with 1 Axes>"
      ]
     },
     "metadata": {},
     "output_type": "display_data"
    }
   ],
   "source": [
    "fig, ax = plt.subplots(figsize=(7, 5))\n",
    "ax.set_title(\"DecisionTreeRegressor\", fontsize=2)\n",
    "ax.set_ylabel(\"y\", fontsize=14)\n",
    "ax.set_xlabel(\"x\", fontsize=14)\n",
    "ax.scatter(X, y_pred, color='red', label='predict')\n",
    "#ax.scatter(X, y,  color='black', label='origin')\n",
    "ax.legend()\n",
    "plt.show()"
   ]
  },
  {
   "cell_type": "code",
   "execution_count": 32,
   "metadata": {},
   "outputs": [
    {
     "name": "stdout",
     "output_type": "stream",
     "text": [
      "|--- feature_0 <= 87.50\n",
      "|   |--- feature_0 <= -82.00\n",
      "|   |   |--- feature_0 <= -93.00\n",
      "|   |   |   |--- feature_0 <= -99.00\n",
      "|   |   |   |   |--- value: [1.00]\n",
      "|   |   |   |--- feature_0 >  -99.00\n",
      "|   |   |   |   |--- value: [-7.00]\n",
      "|   |   |--- feature_0 >  -93.00\n",
      "|   |   |   |--- feature_0 <= -85.00\n",
      "|   |   |   |   |--- feature_0 <= -87.00\n",
      "|   |   |   |   |   |--- value: [-27.00]\n",
      "|   |   |   |   |--- feature_0 >  -87.00\n",
      "|   |   |   |   |   |--- value: [-25.00]\n",
      "|   |   |   |--- feature_0 >  -85.00\n",
      "|   |   |   |   |--- value: [-21.00]\n",
      "|   |--- feature_0 >  -82.00\n",
      "|   |   |--- feature_0 <= 85.50\n",
      "|   |   |   |--- feature_0 <= 83.50\n",
      "|   |   |   |   |--- feature_0 <= 80.00\n",
      "|   |   |   |   |   |--- value: [-1.05]\n",
      "|   |   |   |   |--- feature_0 >  80.00\n",
      "|   |   |   |   |   |--- value: [-13.00]\n",
      "|   |   |   |--- feature_0 >  83.50\n",
      "|   |   |   |   |--- value: [22.00]\n",
      "|   |   |--- feature_0 >  85.50\n",
      "|   |   |   |--- value: [-27.00]\n",
      "|--- feature_0 >  87.50\n",
      "|   |--- feature_0 <= 94.50\n",
      "|   |   |--- feature_0 <= 93.00\n",
      "|   |   |   |--- feature_0 <= 90.00\n",
      "|   |   |   |   |--- value: [28.00]\n",
      "|   |   |   |--- feature_0 >  90.00\n",
      "|   |   |   |   |--- value: [26.00]\n",
      "|   |   |--- feature_0 >  93.00\n",
      "|   |   |   |--- value: [22.00]\n",
      "|   |--- feature_0 >  94.50\n",
      "|   |   |--- feature_0 <= 95.50\n",
      "|   |   |   |--- value: [-18.00]\n",
      "|   |   |--- feature_0 >  95.50\n",
      "|   |   |   |--- value: [17.00]\n",
      "\n"
     ]
    }
   ],
   "source": [
    "r = export_text(clf)\n",
    "print(r)"
   ]
  },
  {
   "cell_type": "code",
   "execution_count": null,
   "metadata": {},
   "outputs": [],
   "source": []
  }
 ],
 "metadata": {
  "kernelspec": {
   "display_name": "Python 3",
   "language": "python",
   "name": "python3"
  },
  "language_info": {
   "codemirror_mode": {
    "name": "ipython",
    "version": 3
   },
   "file_extension": ".py",
   "mimetype": "text/x-python",
   "name": "python",
   "nbconvert_exporter": "python",
   "pygments_lexer": "ipython3",
   "version": "3.8.3"
  }
 },
 "nbformat": 4,
 "nbformat_minor": 4
}
